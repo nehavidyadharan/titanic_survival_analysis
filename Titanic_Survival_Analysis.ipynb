{
  "nbformat": 4,
  "nbformat_minor": 0,
  "metadata": {
    "colab": {
      "name": "TensorFlow_ProgrammingAssignment2_Neha_Vidyadharan.ipynb",
      "provenance": [],
      "collapsed_sections": []
    },
    "kernelspec": {
      "name": "python3",
      "display_name": "Python 3"
    }
  },
  "cells": [
    {
      "cell_type": "code",
      "metadata": {
        "id": "v76sPtzW_gza",
        "colab_type": "code",
        "colab": {}
      },
      "source": [
        "# Import all the necessary libaries\n",
        "import matplotlib.pyplot as plt\n",
        "import numpy as np\n",
        "import pandas as pd\n",
        "import seaborn as sns\n",
        "import tensorflow as tf"
      ],
      "execution_count": 0,
      "outputs": []
    },
    {
      "cell_type": "code",
      "metadata": {
        "id": "O8p4WlYJxjXl",
        "colab_type": "code",
        "colab": {
          "base_uri": "https://localhost:8080/",
          "height": 629
        },
        "outputId": "4adb4da9-9d96-4fa2-8bb2-0d1f396da193"
      },
      "source": [
        "#Reading the Titanic dataset using pandas library to explore the dataset\n",
        "titanic = pd.read_csv('titanic.csv')\n",
        "\n",
        "# to print number of rows and columns\n",
        "print('number of rows and columns')\n",
        "print(titanic.shape) \n",
        "print() #prints empty line between results\n",
        "\n",
        "#to study the datatypes of the attributes\n",
        "print('datatypes of the attributes')\n",
        "print(titanic.dtypes)\n",
        "print()#prints empty line between results\n",
        "\n",
        "#to display the overview of the dataset\n",
        "print('Overview of the data')\n",
        "titanic.head()"
      ],
      "execution_count": 3,
      "outputs": [
        {
          "output_type": "stream",
          "text": [
            "number of rows and columns\n",
            "(1310, 14)\n",
            "\n",
            "datatypes of the attributes\n",
            "pclass       float64\n",
            "survived     float64\n",
            "name          object\n",
            "sex           object\n",
            "age          float64\n",
            "sibsp        float64\n",
            "parch        float64\n",
            "ticket        object\n",
            "fare         float64\n",
            "cabin         object\n",
            "embarked      object\n",
            "boat          object\n",
            "body         float64\n",
            "home.dest     object\n",
            "dtype: object\n",
            "\n",
            "Overview of the data\n"
          ],
          "name": "stdout"
        },
        {
          "output_type": "execute_result",
          "data": {
            "text/html": [
              "<div>\n",
              "<style scoped>\n",
              "    .dataframe tbody tr th:only-of-type {\n",
              "        vertical-align: middle;\n",
              "    }\n",
              "\n",
              "    .dataframe tbody tr th {\n",
              "        vertical-align: top;\n",
              "    }\n",
              "\n",
              "    .dataframe thead th {\n",
              "        text-align: right;\n",
              "    }\n",
              "</style>\n",
              "<table border=\"1\" class=\"dataframe\">\n",
              "  <thead>\n",
              "    <tr style=\"text-align: right;\">\n",
              "      <th></th>\n",
              "      <th>pclass</th>\n",
              "      <th>survived</th>\n",
              "      <th>name</th>\n",
              "      <th>sex</th>\n",
              "      <th>age</th>\n",
              "      <th>sibsp</th>\n",
              "      <th>parch</th>\n",
              "      <th>ticket</th>\n",
              "      <th>fare</th>\n",
              "      <th>cabin</th>\n",
              "      <th>embarked</th>\n",
              "      <th>boat</th>\n",
              "      <th>body</th>\n",
              "      <th>home.dest</th>\n",
              "    </tr>\n",
              "  </thead>\n",
              "  <tbody>\n",
              "    <tr>\n",
              "      <th>0</th>\n",
              "      <td>1.0</td>\n",
              "      <td>1.0</td>\n",
              "      <td>Allen, Miss. Elisabeth Walton</td>\n",
              "      <td>female</td>\n",
              "      <td>29.0000</td>\n",
              "      <td>0.0</td>\n",
              "      <td>0.0</td>\n",
              "      <td>24160</td>\n",
              "      <td>211.3375</td>\n",
              "      <td>B5</td>\n",
              "      <td>S</td>\n",
              "      <td>2</td>\n",
              "      <td>NaN</td>\n",
              "      <td>St Louis, MO</td>\n",
              "    </tr>\n",
              "    <tr>\n",
              "      <th>1</th>\n",
              "      <td>1.0</td>\n",
              "      <td>1.0</td>\n",
              "      <td>Allison, Master. Hudson Trevor</td>\n",
              "      <td>male</td>\n",
              "      <td>0.9167</td>\n",
              "      <td>1.0</td>\n",
              "      <td>2.0</td>\n",
              "      <td>113781</td>\n",
              "      <td>151.5500</td>\n",
              "      <td>C22 C26</td>\n",
              "      <td>S</td>\n",
              "      <td>11</td>\n",
              "      <td>NaN</td>\n",
              "      <td>Montreal, PQ / Chesterville, ON</td>\n",
              "    </tr>\n",
              "    <tr>\n",
              "      <th>2</th>\n",
              "      <td>1.0</td>\n",
              "      <td>0.0</td>\n",
              "      <td>Allison, Miss. Helen Loraine</td>\n",
              "      <td>female</td>\n",
              "      <td>2.0000</td>\n",
              "      <td>1.0</td>\n",
              "      <td>2.0</td>\n",
              "      <td>113781</td>\n",
              "      <td>151.5500</td>\n",
              "      <td>C22 C26</td>\n",
              "      <td>S</td>\n",
              "      <td>NaN</td>\n",
              "      <td>NaN</td>\n",
              "      <td>Montreal, PQ / Chesterville, ON</td>\n",
              "    </tr>\n",
              "    <tr>\n",
              "      <th>3</th>\n",
              "      <td>1.0</td>\n",
              "      <td>0.0</td>\n",
              "      <td>Allison, Mr. Hudson Joshua Creighton</td>\n",
              "      <td>male</td>\n",
              "      <td>30.0000</td>\n",
              "      <td>1.0</td>\n",
              "      <td>2.0</td>\n",
              "      <td>113781</td>\n",
              "      <td>151.5500</td>\n",
              "      <td>C22 C26</td>\n",
              "      <td>S</td>\n",
              "      <td>NaN</td>\n",
              "      <td>135.0</td>\n",
              "      <td>Montreal, PQ / Chesterville, ON</td>\n",
              "    </tr>\n",
              "    <tr>\n",
              "      <th>4</th>\n",
              "      <td>1.0</td>\n",
              "      <td>0.0</td>\n",
              "      <td>Allison, Mrs. Hudson J C (Bessie Waldo Daniels)</td>\n",
              "      <td>female</td>\n",
              "      <td>25.0000</td>\n",
              "      <td>1.0</td>\n",
              "      <td>2.0</td>\n",
              "      <td>113781</td>\n",
              "      <td>151.5500</td>\n",
              "      <td>C22 C26</td>\n",
              "      <td>S</td>\n",
              "      <td>NaN</td>\n",
              "      <td>NaN</td>\n",
              "      <td>Montreal, PQ / Chesterville, ON</td>\n",
              "    </tr>\n",
              "  </tbody>\n",
              "</table>\n",
              "</div>"
            ],
            "text/plain": [
              "   pclass  survived  ...   body                        home.dest\n",
              "0     1.0       1.0  ...    NaN                     St Louis, MO\n",
              "1     1.0       1.0  ...    NaN  Montreal, PQ / Chesterville, ON\n",
              "2     1.0       0.0  ...    NaN  Montreal, PQ / Chesterville, ON\n",
              "3     1.0       0.0  ...  135.0  Montreal, PQ / Chesterville, ON\n",
              "4     1.0       0.0  ...    NaN  Montreal, PQ / Chesterville, ON\n",
              "\n",
              "[5 rows x 14 columns]"
            ]
          },
          "metadata": {
            "tags": []
          },
          "execution_count": 3
        }
      ]
    },
    {
      "cell_type": "code",
      "metadata": {
        "id": "7OtKqJqI13Ou",
        "colab_type": "code",
        "colab": {}
      },
      "source": [
        "#Preprocessing functions to preprocess data\n",
        "\n",
        "# Function to drop unused columns from the dataset\n",
        "def drop_unused_columns(titanic):\n",
        "\treturn titanic.drop(columns=['name','ticket','cabin','boat','body','home.dest'],axis=1)\n",
        "\n",
        "# Function to convert categorical values to numbers\n",
        "def convert_categorical_to_numbers(titanic):\n",
        "  from sklearn.preprocessing import LabelEncoder\n",
        "  labelencoder= LabelEncoder()\n",
        "  titanic.iloc[:,2]  =  labelencoder.fit_transform(titanic.iloc[:,2].values)\n",
        "  titanic.iloc[:,7]  =  labelencoder.fit_transform(titanic.iloc[:,7].values)\n",
        "  return titanic\n",
        "  \n",
        "# Function to drop rows with na values\n",
        "def drop_rows_with_na(titanic):\n",
        "\ttitanic = titanic.dropna(subset=['pclass','survived','sex','age','sibsp','parch','fare','embarked'])\n",
        "\treturn titanic\n",
        "\n",
        "# Function to reorder the columns\n",
        "def reorder_columns(titanic):\n",
        " titanic = titanic[['survived','pclass','sex','age','sibsp','parch','fare','embarked']]\n",
        " return titanic\n",
        "\n",
        "#Creating an object to append all the accuracy values to visulaize at the end.\n",
        "all_accuracies = {}"
      ],
      "execution_count": 0,
      "outputs": []
    },
    {
      "cell_type": "code",
      "metadata": {
        "id": "v-_8Opj8RcP4",
        "colab_type": "code",
        "outputId": "fc01e14b-c1bf-4c10-da7a-ee8e303e2dc2",
        "colab": {
          "base_uri": "https://localhost:8080/",
          "height": 569
        }
      },
      "source": [
        "#Data preprocessed - using preprocessing functions, #exploring the manipulated data\n",
        "\n",
        "#drop unused columns\n",
        "titanic = drop_unused_columns(titanic)\n",
        "\n",
        "#drop rows with na values\n",
        "titanic = drop_rows_with_na(titanic)\n",
        "\n",
        "#reorder the columns\n",
        "titanic = reorder_columns(titanic)\n",
        "\n",
        "#convert categorical values to numbers\n",
        "titanic = convert_categorical_to_numbers(titanic)\n",
        "\n",
        "#print the values in the data post preprocessing\n",
        "print('Dataset after preprocessing')\n",
        "print(titanic)\n",
        "\n",
        "#Generate descriptive statistics of the attributes\n",
        "print('Descriptive statistics')\n",
        "titanic.describe()"
      ],
      "execution_count": 5,
      "outputs": [
        {
          "output_type": "stream",
          "text": [
            "Dataset after preprocessing\n",
            "      survived  pclass  sex      age  sibsp  parch      fare  embarked\n",
            "0          1.0     1.0    0  29.0000    0.0    0.0  211.3375         2\n",
            "1          1.0     1.0    1   0.9167    1.0    2.0  151.5500         2\n",
            "2          0.0     1.0    0   2.0000    1.0    2.0  151.5500         2\n",
            "3          0.0     1.0    1  30.0000    1.0    2.0  151.5500         2\n",
            "4          0.0     1.0    0  25.0000    1.0    2.0  151.5500         2\n",
            "...        ...     ...  ...      ...    ...    ...       ...       ...\n",
            "1301       0.0     3.0    1  45.5000    0.0    0.0    7.2250         0\n",
            "1304       0.0     3.0    0  14.5000    1.0    0.0   14.4542         0\n",
            "1306       0.0     3.0    1  26.5000    0.0    0.0    7.2250         0\n",
            "1307       0.0     3.0    1  27.0000    0.0    0.0    7.2250         0\n",
            "1308       0.0     3.0    1  29.0000    0.0    0.0    7.8750         2\n",
            "\n",
            "[1043 rows x 8 columns]\n",
            "Descriptive statistics\n"
          ],
          "name": "stdout"
        },
        {
          "output_type": "execute_result",
          "data": {
            "text/html": [
              "<div>\n",
              "<style scoped>\n",
              "    .dataframe tbody tr th:only-of-type {\n",
              "        vertical-align: middle;\n",
              "    }\n",
              "\n",
              "    .dataframe tbody tr th {\n",
              "        vertical-align: top;\n",
              "    }\n",
              "\n",
              "    .dataframe thead th {\n",
              "        text-align: right;\n",
              "    }\n",
              "</style>\n",
              "<table border=\"1\" class=\"dataframe\">\n",
              "  <thead>\n",
              "    <tr style=\"text-align: right;\">\n",
              "      <th></th>\n",
              "      <th>survived</th>\n",
              "      <th>pclass</th>\n",
              "      <th>sex</th>\n",
              "      <th>age</th>\n",
              "      <th>sibsp</th>\n",
              "      <th>parch</th>\n",
              "      <th>fare</th>\n",
              "      <th>embarked</th>\n",
              "    </tr>\n",
              "  </thead>\n",
              "  <tbody>\n",
              "    <tr>\n",
              "      <th>count</th>\n",
              "      <td>1043.000000</td>\n",
              "      <td>1043.000000</td>\n",
              "      <td>1043.000000</td>\n",
              "      <td>1043.000000</td>\n",
              "      <td>1043.000000</td>\n",
              "      <td>1043.000000</td>\n",
              "      <td>1043.000000</td>\n",
              "      <td>1043.000000</td>\n",
              "    </tr>\n",
              "    <tr>\n",
              "      <th>mean</th>\n",
              "      <td>0.407478</td>\n",
              "      <td>2.209012</td>\n",
              "      <td>0.629914</td>\n",
              "      <td>29.813199</td>\n",
              "      <td>0.504314</td>\n",
              "      <td>0.421860</td>\n",
              "      <td>36.603024</td>\n",
              "      <td>1.545542</td>\n",
              "    </tr>\n",
              "    <tr>\n",
              "      <th>std</th>\n",
              "      <td>0.491601</td>\n",
              "      <td>0.840685</td>\n",
              "      <td>0.483059</td>\n",
              "      <td>14.366261</td>\n",
              "      <td>0.913080</td>\n",
              "      <td>0.840655</td>\n",
              "      <td>55.753648</td>\n",
              "      <td>0.809366</td>\n",
              "    </tr>\n",
              "    <tr>\n",
              "      <th>min</th>\n",
              "      <td>0.000000</td>\n",
              "      <td>1.000000</td>\n",
              "      <td>0.000000</td>\n",
              "      <td>0.166700</td>\n",
              "      <td>0.000000</td>\n",
              "      <td>0.000000</td>\n",
              "      <td>0.000000</td>\n",
              "      <td>0.000000</td>\n",
              "    </tr>\n",
              "    <tr>\n",
              "      <th>25%</th>\n",
              "      <td>0.000000</td>\n",
              "      <td>1.000000</td>\n",
              "      <td>0.000000</td>\n",
              "      <td>21.000000</td>\n",
              "      <td>0.000000</td>\n",
              "      <td>0.000000</td>\n",
              "      <td>8.050000</td>\n",
              "      <td>1.000000</td>\n",
              "    </tr>\n",
              "    <tr>\n",
              "      <th>50%</th>\n",
              "      <td>0.000000</td>\n",
              "      <td>2.000000</td>\n",
              "      <td>1.000000</td>\n",
              "      <td>28.000000</td>\n",
              "      <td>0.000000</td>\n",
              "      <td>0.000000</td>\n",
              "      <td>15.750000</td>\n",
              "      <td>2.000000</td>\n",
              "    </tr>\n",
              "    <tr>\n",
              "      <th>75%</th>\n",
              "      <td>1.000000</td>\n",
              "      <td>3.000000</td>\n",
              "      <td>1.000000</td>\n",
              "      <td>39.000000</td>\n",
              "      <td>1.000000</td>\n",
              "      <td>1.000000</td>\n",
              "      <td>35.077100</td>\n",
              "      <td>2.000000</td>\n",
              "    </tr>\n",
              "    <tr>\n",
              "      <th>max</th>\n",
              "      <td>1.000000</td>\n",
              "      <td>3.000000</td>\n",
              "      <td>1.000000</td>\n",
              "      <td>80.000000</td>\n",
              "      <td>8.000000</td>\n",
              "      <td>6.000000</td>\n",
              "      <td>512.329200</td>\n",
              "      <td>2.000000</td>\n",
              "    </tr>\n",
              "  </tbody>\n",
              "</table>\n",
              "</div>"
            ],
            "text/plain": [
              "          survived       pclass  ...         fare     embarked\n",
              "count  1043.000000  1043.000000  ...  1043.000000  1043.000000\n",
              "mean      0.407478     2.209012  ...    36.603024     1.545542\n",
              "std       0.491601     0.840685  ...    55.753648     0.809366\n",
              "min       0.000000     1.000000  ...     0.000000     0.000000\n",
              "25%       0.000000     1.000000  ...     8.050000     1.000000\n",
              "50%       0.000000     2.000000  ...    15.750000     2.000000\n",
              "75%       1.000000     3.000000  ...    35.077100     2.000000\n",
              "max       1.000000     3.000000  ...   512.329200     2.000000\n",
              "\n",
              "[8 rows x 8 columns]"
            ]
          },
          "metadata": {
            "tags": []
          },
          "execution_count": 5
        }
      ]
    },
    {
      "cell_type": "code",
      "metadata": {
        "id": "fpW21R5GUuNK",
        "colab_type": "code",
        "outputId": "48b4e8c1-1b1d-40c0-feee-2860e91a57dd",
        "colab": {
          "base_uri": "https://localhost:8080/",
          "height": 295
        }
      },
      "source": [
        "#to visualize the distribution of passengers by \"Age\"\n",
        "matplotlib_Axes = sns.distplot(titanic['age'], color=\"#803305\")\n",
        "sns.distplot(titanic['age'], color=\"#803305\").set(xlabel='Age',\n",
        "                                                  title=\"Histogram representing distribution of Age\")\n",
        "plt.show()"
      ],
      "execution_count": 6,
      "outputs": [
        {
          "output_type": "display_data",
          "data": {
            "image/png": "[encoded data removed]",
            "text/plain": [
              "<Figure size 432x288 with 1 Axes>"
            ]
          },
          "metadata": {
            "tags": [],
            "needs_background": "light"
          }
        }
      ]
    },
    {
      "cell_type": "code",
      "metadata": {
        "id": "3ut7e0ZV-0hw",
        "colab_type": "code",
        "outputId": "b46ace0f-8f18-4798-c5af-4c7a912a2ae8",
        "colab": {
          "base_uri": "https://localhost:8080/",
          "height": 295
        }
      },
      "source": [
        "#to visulaize the chances of survival for passengers in different age groups - Children,adults,teens and old aged\n",
        "interval = (0,18,35,60,120)\n",
        "categories_based_on_age = ['Children','Teens','Adult', 'Old']\n",
        "titanic['Age_categories'] = pd.cut(titanic.age, interval, labels = categories_based_on_age)\n",
        "matplotlib_Axes = sns.countplot(x = 'Age_categories',  data = titanic, hue = 'survived', edgecolor = \"black\", color = \"#f04a7f\")\n",
        "matplotlib_Axes.set(xlabel='Categories based on age', ylabel='Total_count_in_age_groups',\n",
        "       title=\"Categories based on age and their 'Survival' Distribution\")\n",
        "plt.show()"
      ],
      "execution_count": 7,
      "outputs": [
        {
          "output_type": "display_data",
          "data": {
            "image/png": "[encoded data removed]",
            "text/plain": [
              "<Figure size 432x288 with 1 Axes>"
            ]
          },
          "metadata": {
            "tags": [],
            "needs_background": "light"
          }
        }
      ]
    },
    {
      "cell_type": "code",
      "metadata": {
        "id": "srNWPkku-3Te",
        "colab_type": "code",
        "outputId": "5ba86c1e-98e8-41e4-cd48-b00f6c6d7172",
        "colab": {
          "base_uri": "https://localhost:8080/",
          "height": 295
        }
      },
      "source": [
        "#to visulaize count of passengers who survived and who did not survive based on age\n",
        "fig, matplotlib_Axes = plt.subplots(1, 2, figsize = (15, 4))\n",
        "titanic[titanic[\"survived\"] == 0][\"age\"].plot.hist(ax = matplotlib_Axes[0], bins = 16, edgecolor = \"black\", color = \"#f78f20\")\n",
        "matplotlib_Axes[0].set_title(\"Count of people who did 'NOT Survived' based on age\")\n",
        "matplotlib_Axes[0].set_xlabel(\"Age\")\n",
        "matplotlib_Axes[0].set_ylabel(\"Population Count\")\n",
        "domain_1 = list(range(0, 85, 10))\n",
        "matplotlib_Axes[0].set_xticks(domain_1)\n",
        "titanic[titanic[\"survived\"] == 1][\"age\"].plot.hist(ax = matplotlib_Axes[1], bins = 16, edgecolor = \"black\", color = \"#20f7f7\")\n",
        "matplotlib_Axes[1].set_title(\"Count of people who 'Survived' based on age\")\n",
        "matplotlib_Axes[1].set_xlabel(\"Age\")\n",
        "matplotlib_Axes[1].set_ylabel(\"Population Count\")\n",
        "domain_2 = list(range(0, 85, 10))\n",
        "matplotlib_Axes[1].set_xticks(domain_2)\n",
        "plt.show()"
      ],
      "execution_count": 8,
      "outputs": [
        {
          "output_type": "display_data",
          "data": {
            "image/png": "[encoded data removed]",
            "text/plain": [
              "<Figure size 1080x288 with 2 Axes>"
            ]
          },
          "metadata": {
            "tags": [],
            "needs_background": "light"
          }
        }
      ]
    },
    {
      "cell_type": "code",
      "metadata": {
        "id": "d8ZHkwrU-8uc",
        "colab_type": "code",
        "outputId": "e87fd943-7d52-4efd-fcce-f353a7dc5966",
        "colab": {
          "base_uri": "https://localhost:8080/",
          "height": 441
        }
      },
      "source": [
        "#visualize relationship between passenger age and fare\n",
        "matplotlib_Axes = sns.jointplot(data=titanic, x='age', y='fare', kind='reg', color='#22069e')\n",
        "matplotlib_Axes.ax_joint.set_xlabel(\"Age\")\n",
        "matplotlib_Axes.ax_joint.set_ylabel(\"Fare\")\n",
        "plt.show()"
      ],
      "execution_count": 9,
      "outputs": [
        {
          "output_type": "display_data",
          "data": {
            "image/png": "[encoded data removed]",
            "text/plain": [
              "<Figure size 432x432 with 3 Axes>"
            ]
          },
          "metadata": {
            "tags": [],
            "needs_background": "light"
          }
        }
      ]
    },
    {
      "cell_type": "code",
      "metadata": {
        "id": "B1k8WHRE-_jc",
        "colab_type": "code",
        "outputId": "1992d4fc-c0fe-4178-f88f-f53b8144eacb",
        "colab": {
          "base_uri": "https://localhost:8080/",
          "height": 295
        }
      },
      "source": [
        "#Visualize the count of passenger based on sex and their survival chances,\n",
        "#0- female, 1-male , 0-unsurvived, 1-survived\n",
        "fig, matplotlib_Axes = plt.subplots(1, 2, figsize = (15, 4))\n",
        "titanic[\"sex\"].value_counts().plot.bar(color = \"#edda05\", ax = matplotlib_Axes[0])\n",
        "matplotlib_Axes[0].set_title(\"Total Number of Passengers By Sex\")\n",
        "matplotlib_Axes[0].set_ylabel(\"Population Count\")\n",
        "sns.countplot(\"sex\", hue = \"survived\", data = titanic, ax = matplotlib_Axes[1],color='#ff6600')\n",
        "matplotlib_Axes[1].set_title(\"Total Number of Passengers By Sex:'Survived' vs 'Dead'\")\n",
        "matplotlib_Axes[1].set_ylabel(\"Population Count\")\n",
        "plt.show()"
      ],
      "execution_count": 10,
      "outputs": [
        {
          "output_type": "display_data",
          "data": {
            "image/png": "[encoded data removed]",
            "text/plain": [
              "<Figure size 1080x288 with 2 Axes>"
            ]
          },
          "metadata": {
            "tags": [],
            "needs_background": "light"
          }
        }
      ]
    },
    {
      "cell_type": "code",
      "metadata": {
        "id": "UbLLoEHR_LJO",
        "colab_type": "code",
        "outputId": "9feda2f9-98ba-4d45-b2b0-cb6031b3af00",
        "colab": {
          "base_uri": "https://localhost:8080/",
          "height": 295
        }
      },
      "source": [
        "#Visualize the count of passenger based on class and their survival chances,\n",
        "#1-firstClass, 2-SecondClass,3-ThirdClass , 0-unsurvived, 1-survived\n",
        "fig, matplotlib_Axes = plt.subplots(1, 2, figsize = (15, 4))\n",
        "titanic[\"pclass\"].value_counts().plot.bar(color = \"#408701\", ax = matplotlib_Axes[0])\n",
        "matplotlib_Axes[0].set_title(\"Total Number of Passengers By Class\")\n",
        "matplotlib_Axes[0].set_ylabel(\"Population Count\")\n",
        "sns.countplot(\"pclass\", hue = \"survived\", data = titanic, ax = matplotlib_Axes[1],color='#0321a3')\n",
        "matplotlib_Axes[1].set_title(\"Total Number of Passengers By Class:'Survived' vs 'Dead'\")\n",
        "matplotlib_Axes[1].set_ylabel(\"Population Count\")\n",
        "plt.show()"
      ],
      "execution_count": 11,
      "outputs": [
        {
          "output_type": "display_data",
          "data": {
            "image/png": "[encoded data removed]",
            "text/plain": [
              "<Figure size 1080x288 with 2 Axes>"
            ]
          },
          "metadata": {
            "tags": [],
            "needs_background": "light"
          }
        }
      ]
    },
    {
      "cell_type": "code",
      "metadata": {
        "id": "P8UYAc0S_OIW",
        "colab_type": "code",
        "outputId": "134a3b46-023f-434d-aeae-9a0d6246a2e5",
        "colab": {
          "base_uri": "https://localhost:8080/",
          "height": 295
        }
      },
      "source": [
        "#visualize passenger fare with respect to their clas\n",
        "fig, matplotlib_Axes = plt.subplots(1, figsize = (15, 4))\n",
        "sns.boxplot(x='pclass',y='fare',hue='sex',data=titanic,color='#f03245')\n",
        "matplotlib_Axes.set_title(\"Total Number of Passengers By Class and Sex\")\n",
        "matplotlib_Axes.set_ylabel(\"Fare\")\n",
        "plt.show()"
      ],
      "execution_count": 12,
      "outputs": [
        {
          "output_type": "display_data",
          "data": {
            "image/png": "[encoded data removed]",
            "text/plain": [
              "<Figure size 1080x288 with 1 Axes>"
            ]
          },
          "metadata": {
            "tags": [],
            "needs_background": "light"
          }
        }
      ]
    },
    {
      "cell_type": "code",
      "metadata": {
        "id": "UMfgy3IN_Q0k",
        "colab_type": "code",
        "outputId": "58ec6ae6-d735-4212-b8d8-972716345f79",
        "colab": {
          "base_uri": "https://localhost:8080/",
          "height": 295
        }
      },
      "source": [
        "#Visualize the survival chnaces for passengers travelling with siblings, spouse, parents and children\n",
        "#1-firstClass, 2-SecondClass,3-ThirdClass , 0-unsurvived, 1-survived\n",
        "fig, matplotlib_Axes = plt.subplots(1, 2, figsize = (18, 4))\n",
        "sns.barplot(x=\"pclass\", y='sibsp',hue = \"survived\", data = titanic, ax = matplotlib_Axes[0],color='#58b059',ci=None)\n",
        "matplotlib_Axes[0].set_title(\"Passengers Survived or dead: By Class & Number of Siblings and Spouse\")\n",
        "matplotlib_Axes[0].set_ylabel(\"Total Count of Siblings and Spouse\")\n",
        "\n",
        "sns.barplot(x=\"pclass\", y='parch',hue = \"survived\", data = titanic, ax = matplotlib_Axes[1],color='#f5f116',ci=None)\n",
        "matplotlib_Axes[1].set_title(\"Passengers Survived or dead: By Class & Number of Parents and Child\")\n",
        "matplotlib_Axes[1].set_ylabel(\"Total Count of Parents and Child\")\n",
        "\n",
        "plt.show()"
      ],
      "execution_count": 13,
      "outputs": [
        {
          "output_type": "display_data",
          "data": {
            "image/png": "[encoded data removed]",
            "text/plain": [
              "<Figure size 1296x288 with 2 Axes>"
            ]
          },
          "metadata": {
            "tags": [],
            "needs_background": "light"
          }
        }
      ]
    },
    {
      "cell_type": "code",
      "metadata": {
        "id": "iqYsfyUf_TsR",
        "colab_type": "code",
        "outputId": "e85d821a-a4d8-413f-cb94-2a6cdfa2dbf7",
        "colab": {
          "base_uri": "https://localhost:8080/",
          "height": 350
        }
      },
      "source": [
        "#Visualize the count of passenger based on embarked and their survival chances,\n",
        "#1-firstClass, 2-SecondClass,3-ThirdClass , 0-unsurvived, 1-survived\n",
        "#embarked -> C-Cherbourg = 0, Q- Queenstown=1, S-Southhampton=2\n",
        "fig, matplotlib_Axes = plt.subplots(1, 3, figsize = (18, 5))\n",
        "titanic[\"embarked\"].value_counts().plot.bar(color = \"#bf06a7\", ax = matplotlib_Axes[0])\n",
        "matplotlib_Axes[0].set_title(\"Total Number of Passengers By Embarked\")\n",
        "matplotlib_Axes[0].set_ylabel(\"Population Count\")\n",
        "\n",
        "sns.countplot(\"embarked\", hue = \"survived\", data = titanic, ax = matplotlib_Axes[1],color='#0781f2')\n",
        "matplotlib_Axes[1].set_title(\"Total Number of Passengers By Embarked:'Survived' vs 'Dead'\")\n",
        "matplotlib_Axes[1].set_ylabel(\"Population Count\")\n",
        "\n",
        "sns.barplot(x=\"embarked\", y='survived',hue = \"pclass\", data = titanic, ax = matplotlib_Axes[2],color='#f54e16',ci=None)\n",
        "matplotlib_Axes[2].set_title(\"Passengers Survived or dead: By Class & Embarked\")\n",
        "matplotlib_Axes[2].set_ylabel(\"Population Count\")\n",
        "plt.show()"
      ],
      "execution_count": 14,
      "outputs": [
        {
          "output_type": "display_data",
          "data": {
            "image/png": "[encoded data removed]",
            "text/plain": [
              "<Figure size 1296x360 with 3 Axes>"
            ]
          },
          "metadata": {
            "tags": [],
            "needs_background": "light"
          }
        }
      ]
    },
    {
      "cell_type": "code",
      "metadata": {
        "id": "P-0SbvQ-54aX",
        "colab_type": "code",
        "outputId": "cd5344be-90af-4b54-f7ae-96f36d2db945",
        "colab": {
          "base_uri": "https://localhost:8080/",
          "height": 102
        }
      },
      "source": [
        "# Classification models using Skikit learn\n",
        "\n",
        "#Reading the titanic dataset\n",
        "titanic = pd.read_csv('titanic.csv')\n",
        "\n",
        "#Drop unwanted attributes\n",
        "titanic = drop_unused_columns(titanic)\n",
        "#drop rows with NA\n",
        "titanic = drop_rows_with_na(titanic)\n",
        "#re order columsn to split into depedent and independent variables\n",
        "titanic = reorder_columns(titanic)\n",
        "#convert categorical attributes to numeric datatype\n",
        "titanic = convert_categorical_to_numbers(titanic)\n",
        "Xvars= titanic.iloc[:,1:8].values\n",
        "Yvars= titanic.iloc[:,0].values\n",
        "\n",
        "#Splitting the dataset into 80% training dataset and 20% testing dataset\n",
        "from sklearn.model_selection import train_test_split\n",
        "train_Xvars, test_Xvars, train_Yvars, test_Yvars= train_test_split(Xvars,Yvars,test_size=0.2,random_state=0)\n",
        "\n",
        "#Scale the data so that it is normalized \n",
        "from sklearn.preprocessing import StandardScaler\n",
        "sc=StandardScaler()\n",
        "train_Xvars=sc.fit_transform(train_Xvars)\n",
        "test_Xvars=sc.fit_transform(test_Xvars)\n",
        "\n",
        "#Creating a function for classifier models.\n",
        "#Models using machine learning from skikit learn library\n",
        "def classification_models(train_Xvars,train_Yvars):\n",
        "  \n",
        "  #Logistic Regression classifier\n",
        "  from sklearn.linear_model import LogisticRegression\n",
        "  LogisticRegression= LogisticRegression(random_state=0)\n",
        "  LogisticRegression.fit(train_Xvars,train_Yvars)\n",
        "\n",
        "  #K nearest Neighbors classifier\n",
        "  from sklearn.neighbors import KNeighborsClassifier\n",
        "  KNeighborsClassifier=KNeighborsClassifier(n_neighbors=5, metric='minkowski',p=2)\n",
        "  KNeighborsClassifier.fit(train_Xvars,train_Yvars)\n",
        "\n",
        "  #Gaussian Naive Bayes classifier\n",
        "  from sklearn.naive_bayes import GaussianNB\n",
        "  GaussianNB = GaussianNB()\n",
        "  GaussianNB.fit(train_Xvars,train_Yvars)\n",
        "\n",
        "  #Decision tree classifier\n",
        "  from sklearn.tree import DecisionTreeClassifier\n",
        "  DecisionTreeClassifier = DecisionTreeClassifier(criterion='entropy',random_state=0)\n",
        "  DecisionTreeClassifier.fit(train_Xvars,train_Yvars)\n",
        "\n",
        "  #Random Forest Classifier\n",
        "  from sklearn.ensemble import RandomForestClassifier\n",
        "  RandomForestClassifier = RandomForestClassifier(n_estimators=10, criterion='entropy', random_state=0)\n",
        "  RandomForestClassifier.fit(train_Xvars,train_Yvars)\n",
        "\n",
        "  #Printing the training acccurcy for each model\n",
        "  print('[0]Logistic Regression, Accuracy for training data:', LogisticRegression.score(train_Xvars,train_Yvars))\n",
        "  print('[1]K Neighbors Training Accusracy, Accuracy for training data:', KNeighborsClassifier.score(train_Xvars,train_Yvars))\n",
        "  print('[2]Gaussian NB Training Accusracy, Accuracy for training data:', GaussianNB.score(train_Xvars,train_Yvars))\n",
        "  print('[3]Decision Tree Training Accusracy, Accuracy for training data:', DecisionTreeClassifier.score(train_Xvars,train_Yvars))\n",
        "  print('[4]Random Forest Training Accusracy, Accuracy for training data:', RandomForestClassifier.score(train_Xvars,train_Yvars))\n",
        "  \n",
        "  #appending accuracy values into an object created above\n",
        "  all_accuracies['Logistic Regression'] = float(LogisticRegression.score(train_Xvars,train_Yvars))\n",
        "  all_accuracies['K Neighbors Classifier'] = float(KNeighborsClassifier.score(train_Xvars,train_Yvars))\n",
        "  all_accuracies['Gaussian Naive Bayes'] = float(GaussianNB.score(train_Xvars,train_Yvars))\n",
        "  all_accuracies['Decision Tree Classifier'] = float(DecisionTreeClassifier.score(train_Xvars,train_Yvars))\n",
        "  all_accuracies['Random Forest Classifier'] = float(RandomForestClassifier.score(train_Xvars,train_Yvars))\n",
        "  \n",
        "  return LogisticRegression, KNeighborsClassifier, GaussianNB, DecisionTreeClassifier, RandomForestClassifier\n",
        "\n",
        "#Calling the function for all the training data\n",
        "classifier_accuracy_results = classification_models(train_Xvars,train_Yvars)"
      ],
      "execution_count": 15,
      "outputs": [
        {
          "output_type": "stream",
          "text": [
            "[0]Logistic Regression, Accuracy for training data: 0.7805755395683454\n",
            "[1]K Neighbors Training Accusracy, Accuracy for training data: 0.8453237410071942\n",
            "[2]Gaussian NB Training Accusracy, Accuracy for training data: 0.7793764988009593\n",
            "[3]Decision Tree Training Accusracy, Accuracy for training data: 0.9784172661870504\n",
            "[4]Random Forest Training Accusracy, Accuracy for training data: 0.9592326139088729\n"
          ],
          "name": "stdout"
        }
      ]
    },
    {
      "cell_type": "code",
      "metadata": {
        "id": "j3HRbQnw66Hb",
        "colab_type": "code",
        "outputId": "78b631ac-aff0-41a1-e711-978bb929bac0",
        "colab": {
          "base_uri": "https://localhost:8080/",
          "height": 442
        }
      },
      "source": [
        "#Performance of classification models on test data using confusion matrix for accuracy\n",
        "from sklearn.metrics import confusion_matrix\n",
        "for i in range( len(classifier_accuracy_results) ):\n",
        "  confusionMatrix=confusion_matrix(test_Yvars,classifier_accuracy_results[i].predict(test_Xvars))\n",
        "\n",
        "  #True negative,True positive,False positive and False negative\n",
        "  TrueNegative,FalsePositive,FalseNegative,TruePositive = confusion_matrix(test_Yvars,classifier_accuracy_results[i].predict(test_Xvars)).ravel()\n",
        " \n",
        " #Accuracy for testing data\n",
        "  Accuracy_for_testing_data = (TruePositive+TrueNegative) / (TruePositive+TrueNegative+FalseNegative+FalsePositive)\n",
        "  \n",
        "  print(confusionMatrix)\n",
        "  print('--------------------------------------------------------')\n",
        "  print(\"Classifier Model ID[{}] Testing Accuracy = '{}'\".format(i, Accuracy_for_testing_data ))\n",
        "  print()"
      ],
      "execution_count": 16,
      "outputs": [
        {
          "output_type": "stream",
          "text": [
            "[[103  23]\n",
            " [ 19  64]]\n",
            "--------------------------------------------------------\n",
            "Classifier Model ID[0] Testing Accuracy = '0.7990430622009569'\n",
            "\n",
            "[[117   9]\n",
            " [ 28  55]]\n",
            "--------------------------------------------------------\n",
            "Classifier Model ID[1] Testing Accuracy = '0.8229665071770335'\n",
            "\n",
            "[[97 29]\n",
            " [19 64]]\n",
            "--------------------------------------------------------\n",
            "Classifier Model ID[2] Testing Accuracy = '0.7703349282296651'\n",
            "\n",
            "[[104  22]\n",
            " [ 28  55]]\n",
            "--------------------------------------------------------\n",
            "Classifier Model ID[3] Testing Accuracy = '0.7607655502392344'\n",
            "\n",
            "[[115  11]\n",
            " [ 32  51]]\n",
            "--------------------------------------------------------\n",
            "Classifier Model ID[4] Testing Accuracy = '0.7942583732057417'\n",
            "\n"
          ],
          "name": "stdout"
        }
      ]
    },
    {
      "cell_type": "code",
      "metadata": {
        "id": "4d3Qfg6f69cB",
        "colab_type": "code",
        "outputId": "3d6927f2-6603-43f8-c077-00a450139d4f",
        "colab": {
          "base_uri": "https://localhost:8080/",
          "height": 599
        }
      },
      "source": [
        "#Feature importances of Random Forest Classifier to study the impact of each attribute in the prediction of survival\n",
        "RandomForestClassifier = classifier_accuracy_results[4]\n",
        "feature_importances = pd.DataFrame({'features in dataset':titanic.iloc[:,1:8].columns,\n",
        "                                    'Importance of each variable': np.round(RandomForestClassifier.feature_importances_,3)})\n",
        "feature_importances = feature_importances.sort_values('Importance of each variable',ascending=False).set_index('features in dataset')\n",
        "feature_importances.plot.bar()\n",
        "feature_importances"
      ],
      "execution_count": 17,
      "outputs": [
        {
          "output_type": "execute_result",
          "data": {
            "text/html": [
              "<div>\n",
              "<style scoped>\n",
              "    .dataframe tbody tr th:only-of-type {\n",
              "        vertical-align: middle;\n",
              "    }\n",
              "\n",
              "    .dataframe tbody tr th {\n",
              "        vertical-align: top;\n",
              "    }\n",
              "\n",
              "    .dataframe thead th {\n",
              "        text-align: right;\n",
              "    }\n",
              "</style>\n",
              "<table border=\"1\" class=\"dataframe\">\n",
              "  <thead>\n",
              "    <tr style=\"text-align: right;\">\n",
              "      <th></th>\n",
              "      <th>Importance of each variable</th>\n",
              "    </tr>\n",
              "    <tr>\n",
              "      <th>features in dataset</th>\n",
              "      <th></th>\n",
              "    </tr>\n",
              "  </thead>\n",
              "  <tbody>\n",
              "    <tr>\n",
              "      <th>age</th>\n",
              "      <td>0.310</td>\n",
              "    </tr>\n",
              "    <tr>\n",
              "      <th>fare</th>\n",
              "      <td>0.280</td>\n",
              "    </tr>\n",
              "    <tr>\n",
              "      <th>sex</th>\n",
              "      <td>0.208</td>\n",
              "    </tr>\n",
              "    <tr>\n",
              "      <th>pclass</th>\n",
              "      <td>0.078</td>\n",
              "    </tr>\n",
              "    <tr>\n",
              "      <th>sibsp</th>\n",
              "      <td>0.044</td>\n",
              "    </tr>\n",
              "    <tr>\n",
              "      <th>embarked</th>\n",
              "      <td>0.041</td>\n",
              "    </tr>\n",
              "    <tr>\n",
              "      <th>parch</th>\n",
              "      <td>0.039</td>\n",
              "    </tr>\n",
              "  </tbody>\n",
              "</table>\n",
              "</div>"
            ],
            "text/plain": [
              "                     Importance of each variable\n",
              "features in dataset                             \n",
              "age                                        0.310\n",
              "fare                                       0.280\n",
              "sex                                        0.208\n",
              "pclass                                     0.078\n",
              "sibsp                                      0.044\n",
              "embarked                                   0.041\n",
              "parch                                      0.039"
            ]
          },
          "metadata": {
            "tags": []
          },
          "execution_count": 17
        },
        {
          "output_type": "display_data",
          "data": {
            "image/png": "[encoded data removed]",
            "text/plain": [
              "<Figure size 432x288 with 1 Axes>"
            ]
          },
          "metadata": {
            "tags": [],
            "needs_background": "light"
          }
        }
      ]
    },
    {
      "cell_type": "code",
      "metadata": {
        "id": "NdrIfn-u7HL9",
        "colab_type": "code",
        "outputId": "8a1d85d2-ad63-49bd-922c-cd34e5275d40",
        "colab": {
          "base_uri": "https://localhost:8080/",
          "height": 51
        }
      },
      "source": [
        "#Predicting chances of survival for 'Rose' \n",
        "Predict_Rose_survival=[[1,0,20,1,0,100,0]]\n",
        "\n",
        "prediction_val=classifier_accuracy_results[1].predict(Predict_Rose_survival)\n",
        "print(prediction_val)\n",
        "\n",
        "if prediction_val==0:\n",
        "  print('Sorry! You did not survive!!!')\n",
        "else:\n",
        "  print('Great News! You survived!')"
      ],
      "execution_count": 18,
      "outputs": [
        {
          "output_type": "stream",
          "text": [
            "[1.]\n",
            "Great News! You survived!\n"
          ],
          "name": "stdout"
        }
      ]
    },
    {
      "cell_type": "code",
      "metadata": {
        "id": "1B0KGYNN7Mjn",
        "colab_type": "code",
        "outputId": "8810bbe2-14fe-4114-88fd-2f8af8e03c0f",
        "colab": {
          "base_uri": "https://localhost:8080/",
          "height": 51
        }
      },
      "source": [
        "#Predicting chances of survival for 'Jack' \n",
        "Predict_Jack_survival=[[3,1,23,1,0,5,0]]\n",
        "\n",
        "prediction_val=classifier_accuracy_results[1].predict(Predict_Jack_survival)\n",
        "print(prediction_val)\n",
        "\n",
        "if prediction_val==0:\n",
        "  print('Sorry! You did not survive!!!')\n",
        "else:\n",
        "  print('Great News! You survived!')"
      ],
      "execution_count": 19,
      "outputs": [
        {
          "output_type": "stream",
          "text": [
            "[0.]\n",
            "Sorry! You did not survive!!!\n"
          ],
          "name": "stdout"
        }
      ]
    },
    {
      "cell_type": "code",
      "metadata": {
        "id": "1fvv-c8h72gc",
        "colab_type": "code",
        "outputId": "7b5b354b-ee58-4e87-d8e8-0eff3cb86579",
        "colab": {
          "base_uri": "https://localhost:8080/",
          "height": 1000
        }
      },
      "source": [
        "# Predict survival using Tensorflow's high level API with keras\n",
        "#using tf.keras \n",
        "\n",
        "#Creating independent and dependent data variables\n",
        "def create_Xvar_Yvar(titanic, total_size):\n",
        "\tYvars = []\n",
        "\tfor i in range(0, total_size):\n",
        "\t\tif i in titanic.index:\n",
        "\t\t\tYvar = np.zeros(2)\n",
        "\t\t\tif titanic.at[i, 'survived'] == 0:\n",
        "\t\t\t\tYvar[0] = 1.0\n",
        "\t\t\telif titanic.at[i, 'survived'] == 1:\n",
        "\t\t\t\tYvar[1] = 1.0\n",
        "\t\t\tYvars.append(Yvar)\n",
        "\tYvars = np.array(Yvars)\n",
        "\t\n",
        "\tXvar = titanic.drop(columns=['survived'])\n",
        "\tXvar = np.array(Xvar)\n",
        "\t\n",
        "\treturn Xvar, Yvars\n",
        "\n",
        "#generate training and test data after preprocessing the data \n",
        "#preprocessing donw with the help of preprocessing functions declared above\n",
        "def generate_dataset(input):\n",
        "  total_size = len(input)\n",
        "\t#dropping unwanted attributes\n",
        "  input = drop_unused_columns(input)\n",
        "\t#dropping rows with 'na'\n",
        "  input = drop_rows_with_na(input)\n",
        "\t#convert categorical attributes to numeric datatype\t\n",
        "  input = convert_categorical_to_numbers(input)\n",
        "  return create_Xvar_Yvar(input, total_size)\n",
        "\n",
        "#read titanic daatset\n",
        "titanic = pd.read_csv('titanic.csv')\n",
        "\n",
        "#randomly select 80% for training\n",
        "indices = np.random.rand(len(titanic)) <= 0.8\n",
        "\n",
        "#creating training dataset\n",
        "training_data = titanic[indices]\n",
        "training_data = training_data.reset_index(drop=True)\n",
        "\n",
        "#creating testing dataset\n",
        "test_data = titanic[~indices]\n",
        "test_data = test_data.reset_index(drop=True)\n",
        "\n",
        "train_Xvars, train_Yvars = generate_dataset(training_data)\n",
        "test_Xvars, test_Yvars = generate_dataset(test_data)\n",
        "\n",
        "#creating a sequential model using tf.keras\n",
        "model = tf.keras.Sequential()\n",
        "model.add(tf.keras.layers.Dense(500, activation='relu', input_shape=[7,]))\n",
        "model.add(tf.keras.layers.Dense(500, activation='relu'))\n",
        "model.add(tf.keras.layers.Dense(500, activation='relu'))\n",
        "model.add(tf.keras.layers.Dense(2, activation='softmax'))\n",
        "model.compile(loss='categorical_crossentropy', optimizer='Adam', metrics=['accuracy'])\n",
        "\n",
        "#initializing metric variables\n",
        "total_training_accuracy = 0.0\n",
        "total_validation_accuracy = 0.0\n",
        "total_test_accuracy = 0.0\n",
        "\n",
        "#using the sequential model created above\n",
        "for _ in range(0, 1):\n",
        "\thistory = model.fit(train_Xvars, train_Yvars, epochs=70, batch_size=10, validation_split=0.2)\n",
        "\tdictionary = pd.DataFrame(history.history)\n",
        "  \n",
        "\t#Calculating mean accuracy and validation of mean accuracy\n",
        "\ttotal_training_accuracy += dictionary['accuracy'].mean()\n",
        "\ttotal_validation_accuracy += dictionary['val_accuracy'].mean()\n",
        " \n",
        "  #evaluate the model\n",
        "\ttesting_loss, testing_accuracy = model.evaluate(test_Xvars, test_Yvars)\n",
        "\n",
        "\ttotal_test_accuracy += testing_accuracy\n",
        "\n",
        "#Priting model metrics obtained\n",
        "print('Training mean accuracy: ' + str(total_training_accuracy))\n",
        "print('Validation mean accuracy: ' + str(total_validation_accuracy))\n",
        "print('Testing mean accuracy: ' + str(total_test_accuracy))\n",
        "\n",
        "#append the accuracy for the model for furture visulaization\n",
        "all_accuracies['Sequential Neural Network'] = total_training_accuracy\n"
      ],
      "execution_count": 20,
      "outputs": [
        {
          "output_type": "stream",
          "text": [
            "Epoch 1/70\n",
            "66/66 [==============================] - 1s 8ms/step - loss: 1.4329 - accuracy: 0.5810 - val_loss: 0.6635 - val_accuracy: 0.6524\n",
            "Epoch 2/70\n",
            "66/66 [==============================] - 0s 5ms/step - loss: 0.6514 - accuracy: 0.6315 - val_loss: 0.6593 - val_accuracy: 0.6037\n",
            "Epoch 3/70\n",
            "66/66 [==============================] - 0s 5ms/step - loss: 0.6242 - accuracy: 0.6697 - val_loss: 0.6639 - val_accuracy: 0.6280\n",
            "Epoch 4/70\n",
            "66/66 [==============================] - 0s 5ms/step - loss: 0.6236 - accuracy: 0.6728 - val_loss: 0.6579 - val_accuracy: 0.6646\n",
            "Epoch 5/70\n",
            "66/66 [==============================] - 0s 5ms/step - loss: 0.6323 - accuracy: 0.6468 - val_loss: 0.6812 - val_accuracy: 0.6707\n",
            "Epoch 6/70\n",
            "66/66 [==============================] - 0s 5ms/step - loss: 0.6201 - accuracy: 0.6743 - val_loss: 0.7114 - val_accuracy: 0.5549\n",
            "Epoch 7/70\n",
            "66/66 [==============================] - 0s 5ms/step - loss: 0.6139 - accuracy: 0.6804 - val_loss: 0.6909 - val_accuracy: 0.6341\n",
            "Epoch 8/70\n",
            "66/66 [==============================] - 0s 5ms/step - loss: 0.5980 - accuracy: 0.6988 - val_loss: 0.6775 - val_accuracy: 0.5915\n",
            "Epoch 9/70\n",
            "66/66 [==============================] - 0s 5ms/step - loss: 0.5950 - accuracy: 0.7003 - val_loss: 0.6314 - val_accuracy: 0.6707\n",
            "Epoch 10/70\n",
            "66/66 [==============================] - 0s 5ms/step - loss: 0.5808 - accuracy: 0.7034 - val_loss: 0.6174 - val_accuracy: 0.6768\n",
            "Epoch 11/70\n",
            "66/66 [==============================] - 0s 5ms/step - loss: 0.5636 - accuracy: 0.7080 - val_loss: 0.6348 - val_accuracy: 0.6768\n",
            "Epoch 12/70\n",
            "66/66 [==============================] - 0s 5ms/step - loss: 0.5810 - accuracy: 0.7156 - val_loss: 0.6016 - val_accuracy: 0.6829\n",
            "Epoch 13/70\n",
            "66/66 [==============================] - 0s 5ms/step - loss: 0.5265 - accuracy: 0.7416 - val_loss: 0.6161 - val_accuracy: 0.7500\n",
            "Epoch 14/70\n",
            "66/66 [==============================] - 0s 5ms/step - loss: 0.5487 - accuracy: 0.7554 - val_loss: 0.6560 - val_accuracy: 0.6829\n",
            "Epoch 15/70\n",
            "66/66 [==============================] - 0s 5ms/step - loss: 0.5280 - accuracy: 0.7508 - val_loss: 0.5967 - val_accuracy: 0.6890\n",
            "Epoch 16/70\n",
            "66/66 [==============================] - 0s 5ms/step - loss: 0.5218 - accuracy: 0.7783 - val_loss: 0.5645 - val_accuracy: 0.7500\n",
            "Epoch 17/70\n",
            "66/66 [==============================] - 0s 5ms/step - loss: 0.5162 - accuracy: 0.7691 - val_loss: 0.6190 - val_accuracy: 0.7012\n",
            "Epoch 18/70\n",
            "66/66 [==============================] - 0s 5ms/step - loss: 0.5021 - accuracy: 0.7691 - val_loss: 0.5991 - val_accuracy: 0.7012\n",
            "Epoch 19/70\n",
            "66/66 [==============================] - 0s 5ms/step - loss: 0.5195 - accuracy: 0.7615 - val_loss: 0.6449 - val_accuracy: 0.7073\n",
            "Epoch 20/70\n",
            "66/66 [==============================] - 0s 5ms/step - loss: 0.5107 - accuracy: 0.7737 - val_loss: 0.6056 - val_accuracy: 0.7622\n",
            "Epoch 21/70\n",
            "66/66 [==============================] - 0s 5ms/step - loss: 0.4761 - accuracy: 0.7890 - val_loss: 0.6105 - val_accuracy: 0.7378\n",
            "Epoch 22/70\n",
            "66/66 [==============================] - 0s 5ms/step - loss: 0.4688 - accuracy: 0.8012 - val_loss: 0.5914 - val_accuracy: 0.7256\n",
            "Epoch 23/70\n",
            "66/66 [==============================] - 0s 5ms/step - loss: 0.4565 - accuracy: 0.7966 - val_loss: 0.5889 - val_accuracy: 0.7500\n",
            "Epoch 24/70\n",
            "66/66 [==============================] - 0s 5ms/step - loss: 0.4779 - accuracy: 0.7905 - val_loss: 0.6265 - val_accuracy: 0.7256\n",
            "Epoch 25/70\n",
            "66/66 [==============================] - 0s 5ms/step - loss: 0.4610 - accuracy: 0.7859 - val_loss: 0.6158 - val_accuracy: 0.7195\n",
            "Epoch 26/70\n",
            "66/66 [==============================] - 0s 5ms/step - loss: 0.4531 - accuracy: 0.7997 - val_loss: 0.6356 - val_accuracy: 0.7439\n",
            "Epoch 27/70\n",
            "66/66 [==============================] - 0s 5ms/step - loss: 0.4864 - accuracy: 0.7859 - val_loss: 0.5925 - val_accuracy: 0.7134\n",
            "Epoch 28/70\n",
            "66/66 [==============================] - 0s 5ms/step - loss: 0.4939 - accuracy: 0.7859 - val_loss: 0.5971 - val_accuracy: 0.7134\n",
            "Epoch 29/70\n",
            "66/66 [==============================] - 0s 5ms/step - loss: 0.5008 - accuracy: 0.7630 - val_loss: 0.6133 - val_accuracy: 0.7134\n",
            "Epoch 30/70\n",
            "66/66 [==============================] - 0s 5ms/step - loss: 0.4531 - accuracy: 0.8028 - val_loss: 0.6173 - val_accuracy: 0.7256\n",
            "Epoch 31/70\n",
            "66/66 [==============================] - 0s 5ms/step - loss: 0.4818 - accuracy: 0.7890 - val_loss: 0.6732 - val_accuracy: 0.6829\n",
            "Epoch 32/70\n",
            "66/66 [==============================] - 0s 5ms/step - loss: 0.4514 - accuracy: 0.8012 - val_loss: 0.6039 - val_accuracy: 0.7134\n",
            "Epoch 33/70\n",
            "66/66 [==============================] - 0s 5ms/step - loss: 0.4297 - accuracy: 0.8150 - val_loss: 0.6221 - val_accuracy: 0.7134\n",
            "Epoch 34/70\n",
            "66/66 [==============================] - 0s 5ms/step - loss: 0.4347 - accuracy: 0.8135 - val_loss: 0.5885 - val_accuracy: 0.7561\n",
            "Epoch 35/70\n",
            "66/66 [==============================] - 0s 5ms/step - loss: 0.4700 - accuracy: 0.7905 - val_loss: 0.6176 - val_accuracy: 0.7012\n",
            "Epoch 36/70\n",
            "66/66 [==============================] - 0s 5ms/step - loss: 0.4363 - accuracy: 0.8119 - val_loss: 0.6208 - val_accuracy: 0.7134\n",
            "Epoch 37/70\n",
            "66/66 [==============================] - 0s 6ms/step - loss: 0.4420 - accuracy: 0.8104 - val_loss: 0.6344 - val_accuracy: 0.7134\n",
            "Epoch 38/70\n",
            "66/66 [==============================] - 0s 5ms/step - loss: 0.4454 - accuracy: 0.8135 - val_loss: 0.6636 - val_accuracy: 0.6829\n",
            "Epoch 39/70\n",
            "66/66 [==============================] - 0s 5ms/step - loss: 0.4249 - accuracy: 0.8119 - val_loss: 0.6480 - val_accuracy: 0.6951\n",
            "Epoch 40/70\n",
            "66/66 [==============================] - 0s 5ms/step - loss: 0.4339 - accuracy: 0.8135 - val_loss: 0.6527 - val_accuracy: 0.7012\n",
            "Epoch 41/70\n",
            "66/66 [==============================] - 0s 5ms/step - loss: 0.4217 - accuracy: 0.8150 - val_loss: 0.6682 - val_accuracy: 0.7195\n",
            "Epoch 42/70\n",
            "66/66 [==============================] - 0s 5ms/step - loss: 0.4186 - accuracy: 0.8242 - val_loss: 0.6723 - val_accuracy: 0.7012\n",
            "Epoch 43/70\n",
            "66/66 [==============================] - 0s 5ms/step - loss: 0.4508 - accuracy: 0.8012 - val_loss: 0.6532 - val_accuracy: 0.7073\n",
            "Epoch 44/70\n",
            "66/66 [==============================] - 0s 5ms/step - loss: 0.5030 - accuracy: 0.7706 - val_loss: 0.6847 - val_accuracy: 0.6951\n",
            "Epoch 45/70\n",
            "66/66 [==============================] - 0s 5ms/step - loss: 0.4413 - accuracy: 0.8135 - val_loss: 0.6886 - val_accuracy: 0.7012\n",
            "Epoch 46/70\n",
            "66/66 [==============================] - 0s 5ms/step - loss: 0.4250 - accuracy: 0.8257 - val_loss: 0.7061 - val_accuracy: 0.7012\n",
            "Epoch 47/70\n",
            "66/66 [==============================] - 0s 5ms/step - loss: 0.4528 - accuracy: 0.8028 - val_loss: 0.6265 - val_accuracy: 0.7195\n",
            "Epoch 48/70\n",
            "66/66 [==============================] - 0s 5ms/step - loss: 0.4363 - accuracy: 0.7966 - val_loss: 0.6566 - val_accuracy: 0.7073\n",
            "Epoch 49/70\n",
            "66/66 [==============================] - 0s 5ms/step - loss: 0.4224 - accuracy: 0.8196 - val_loss: 0.6150 - val_accuracy: 0.7134\n",
            "Epoch 50/70\n",
            "66/66 [==============================] - 0s 5ms/step - loss: 0.4247 - accuracy: 0.8242 - val_loss: 0.6069 - val_accuracy: 0.7195\n",
            "Epoch 51/70\n",
            "66/66 [==============================] - 0s 5ms/step - loss: 0.4122 - accuracy: 0.8257 - val_loss: 0.6611 - val_accuracy: 0.6890\n",
            "Epoch 52/70\n",
            "66/66 [==============================] - 0s 5ms/step - loss: 0.4652 - accuracy: 0.7951 - val_loss: 0.5963 - val_accuracy: 0.7317\n",
            "Epoch 53/70\n",
            "66/66 [==============================] - 0s 5ms/step - loss: 0.4175 - accuracy: 0.8242 - val_loss: 0.6992 - val_accuracy: 0.7073\n",
            "Epoch 54/70\n",
            "66/66 [==============================] - 0s 5ms/step - loss: 0.4102 - accuracy: 0.8211 - val_loss: 0.6881 - val_accuracy: 0.7073\n",
            "Epoch 55/70\n",
            "66/66 [==============================] - 0s 5ms/step - loss: 0.4234 - accuracy: 0.8058 - val_loss: 0.6702 - val_accuracy: 0.7256\n",
            "Epoch 56/70\n",
            "66/66 [==============================] - 0s 5ms/step - loss: 0.4595 - accuracy: 0.8150 - val_loss: 0.6618 - val_accuracy: 0.7073\n",
            "Epoch 57/70\n",
            "66/66 [==============================] - 0s 5ms/step - loss: 0.4200 - accuracy: 0.8196 - val_loss: 0.6886 - val_accuracy: 0.6829\n",
            "Epoch 58/70\n",
            "66/66 [==============================] - 0s 5ms/step - loss: 0.4080 - accuracy: 0.8165 - val_loss: 0.6489 - val_accuracy: 0.7195\n",
            "Epoch 59/70\n",
            "66/66 [==============================] - 0s 5ms/step - loss: 0.3937 - accuracy: 0.8287 - val_loss: 0.7690 - val_accuracy: 0.7073\n",
            "Epoch 60/70\n",
            "66/66 [==============================] - 0s 5ms/step - loss: 0.4051 - accuracy: 0.8180 - val_loss: 0.7305 - val_accuracy: 0.6890\n",
            "Epoch 61/70\n",
            "66/66 [==============================] - 0s 5ms/step - loss: 0.3993 - accuracy: 0.8196 - val_loss: 0.7227 - val_accuracy: 0.7012\n",
            "Epoch 62/70\n",
            "66/66 [==============================] - 0s 5ms/step - loss: 0.4103 - accuracy: 0.8242 - val_loss: 0.6909 - val_accuracy: 0.6951\n",
            "Epoch 63/70\n",
            "66/66 [==============================] - 0s 5ms/step - loss: 0.4043 - accuracy: 0.8257 - val_loss: 0.6758 - val_accuracy: 0.6829\n",
            "Epoch 64/70\n",
            "66/66 [==============================] - 0s 5ms/step - loss: 0.4011 - accuracy: 0.8242 - val_loss: 0.7553 - val_accuracy: 0.7012\n",
            "Epoch 65/70\n",
            "66/66 [==============================] - 0s 5ms/step - loss: 0.4229 - accuracy: 0.8211 - val_loss: 0.6938 - val_accuracy: 0.7073\n",
            "Epoch 66/70\n",
            "66/66 [==============================] - 0s 5ms/step - loss: 0.4551 - accuracy: 0.7936 - val_loss: 0.7218 - val_accuracy: 0.7012\n",
            "Epoch 67/70\n",
            "66/66 [==============================] - 0s 5ms/step - loss: 0.4173 - accuracy: 0.8226 - val_loss: 0.7478 - val_accuracy: 0.7195\n",
            "Epoch 68/70\n",
            "66/66 [==============================] - 0s 5ms/step - loss: 0.4108 - accuracy: 0.8180 - val_loss: 0.6918 - val_accuracy: 0.7134\n",
            "Epoch 69/70\n",
            "66/66 [==============================] - 0s 5ms/step - loss: 0.4281 - accuracy: 0.8089 - val_loss: 0.6416 - val_accuracy: 0.7256\n",
            "Epoch 70/70\n",
            "66/66 [==============================] - 0s 5ms/step - loss: 0.4402 - accuracy: 0.8043 - val_loss: 0.6353 - val_accuracy: 0.7134\n",
            "8/8 [==============================] - 0s 2ms/step - loss: 0.5077 - accuracy: 0.8044\n",
            "Training mean accuracy: 0.7796854530061994\n",
            "Validation mean accuracy: 0.7000871053763799\n",
            "Testing mean accuracy: 0.804444432258606\n"
          ],
          "name": "stdout"
        }
      ]
    },
    {
      "cell_type": "code",
      "metadata": {
        "id": "6A6QPsbrAgZL",
        "colab_type": "code",
        "outputId": "5423daa6-54ff-49be-e0c5-8a6f8dd99bb0",
        "colab": {
          "base_uri": "https://localhost:8080/",
          "height": 34
        }
      },
      "source": [
        "#Predicting chances of survival for 'Rose' using tf.keras.Sequential model\n",
        "Predict_Rose_survival=[[1,0,20,1,0,100,0]]\n",
        "predictions = model.predict(Predict_Rose_survival)\n",
        "print('predictions',predictions)"
      ],
      "execution_count": 21,
      "outputs": [
        {
          "output_type": "stream",
          "text": [
            "predictions [[0.1630439 0.8369561]]\n"
          ],
          "name": "stdout"
        }
      ]
    },
    {
      "cell_type": "code",
      "metadata": {
        "id": "EKK8rSqOIB0r",
        "colab_type": "code",
        "outputId": "3f0354a0-6ba6-4e5c-97b0-d02076d4f715",
        "colab": {
          "base_uri": "https://localhost:8080/",
          "height": 34
        }
      },
      "source": [
        "#Predicting chances of survival for 'Jack' using tf.keras.Sequential model\n",
        "Predict_Jack_survival=[[3,1,23,1,0,5,0]]\n",
        "predictions = model.predict(Predict_Jack_survival)\n",
        "print('predictions',predictions)"
      ],
      "execution_count": 22,
      "outputs": [
        {
          "output_type": "stream",
          "text": [
            "predictions [[0.8870739  0.11292607]]\n"
          ],
          "name": "stdout"
        }
      ]
    },
    {
      "cell_type": "code",
      "metadata": {
        "id": "IybuQjSoodtt",
        "colab_type": "code",
        "colab": {}
      },
      "source": [
        "# Predict using Tensflow estimator for Boostedtrees\n",
        "from IPython.display import clear_output\n",
        "\n",
        "#Read the titanic dataset\n",
        "titanic = pd.read_csv('titanic.csv')\n",
        "\n",
        "#drop unwanted attributes\n",
        "titanic = drop_unused_columns(titanic)\n",
        "\n",
        "#drop rows with 'na'\n",
        "titanic = drop_rows_with_na(titanic)\n",
        "\n",
        "# reorder the columns\n",
        "titanic = reorder_columns(titanic)\n",
        "\n",
        "#Divide the dataset for 80% training and 20% testing\n",
        "indices = np.random.rand(len(titanic)) <= 0.8\n",
        "\n",
        "#process of creating training and testing dataset\n",
        "train_Xvars = titanic[indices]\n",
        "train_Xvars = train_Xvars.reset_index(drop=True)\n",
        "train_Xvars = train_Xvars.astype({'pclass': 'int32','sibsp': 'int32','parch': 'int32'})\n",
        "\n",
        "test_Xvars = titanic[~indices]\n",
        "test_Xvars = test_Xvars.reset_index(drop=True)\n",
        "test_Xvars = test_Xvars.astype({'pclass': 'int32','sibsp': 'int32', 'parch': 'int32'})\n",
        "\n",
        "train_Yvars = train_Xvars.pop('survived')\n",
        "test_Yvars = test_Xvars.pop('survived')\n",
        "\n",
        "#Feature extraction - using only what is required and manipulating the data\n",
        "categorical_features = ['pclass', 'sex', 'sibsp', 'parch','embarked']\n",
        "numeric_features = ['age', 'fare']\n",
        " \n",
        "features = []\n",
        "for feature in categorical_features:\n",
        "  vocabulary = train_Xvars[feature].unique()\n",
        "  features.append(tf.feature_column.indicator_column(\n",
        "      tf.feature_column.categorical_column_with_vocabulary_list(feature,\n",
        "                                                 vocabulary)))\n",
        "\n",
        "for feature in numeric_features:\n",
        "  features.append(tf.feature_column.numeric_column(feature,\n",
        "                                           dtype=tf.float32))\n",
        "  \n",
        "#Processing the dataset using methods, shuffle, repeat and batch\n",
        "def process_dataset(X, Y, number_of_epochs=None, shuffle=True):\n",
        "  def process():\n",
        "    dataset = tf.data.Dataset.from_tensor_slices((dict(X), Y))\n",
        "    if shuffle:\n",
        "      dataset = dataset.shuffle(len(train_Yvars))\n",
        "    dataset = dataset.repeat(number_of_epochs)\n",
        "    dataset = dataset.batch(len(train_Yvars))\n",
        "    return dataset\n",
        "  return process\n",
        "\n",
        "#obtaining training and testing data\n",
        "training = process_dataset(train_Xvars, train_Yvars)\n",
        "testing = process_dataset(test_Xvars, test_Yvars,number_of_epochs=1, shuffle=False)\n",
        "\n",
        "#Using Linear Classifier estimator from TensorFlow estimator API\n",
        "linear_estimator = tf.estimator.LinearClassifier(features)\n",
        "linear_estimator.train(training, max_steps=10)\n",
        "\n",
        "#evaluate the results for linear estimator\n",
        "linear_result = linear_estimator.evaluate(testing)\n",
        "\n",
        "#Using Boosted Tree Classifier estimator from TensorFlow estimator API\n",
        "params = {'n_trees': 50, 'max_depth': 3,'n_batches_per_layer': 1,'center_bias': True}\n",
        "\n",
        "boosted_trees_estimator = tf.estimator.BoostedTreesClassifier(features,\n",
        "                                          **params)\n",
        "boosted_trees_estimator.train(training, max_steps=100)\n",
        "\n",
        "#evaluate the results for boosted tree estimator\n",
        "boosted_tree_result = boosted_trees_estimator.evaluate(testing)\n",
        "clear_output()\n"
      ],
      "execution_count": 0,
      "outputs": []
    },
    {
      "cell_type": "code",
      "metadata": {
        "id": "uW5o4vq3M5Nq",
        "colab_type": "code",
        "outputId": "6fabffe4-d820-4c1f-df6d-c03f55113d28",
        "colab": {
          "base_uri": "https://localhost:8080/",
          "height": 476
        }
      },
      "source": [
        "#Printing the results\n",
        "print('Linear estimator results')\n",
        "print(pd.Series(linear_result))\n",
        "print('---------------------------------------')\n",
        "print('Boosted Tree estimator results')\n",
        "print(pd.Series(boosted_tree_result))\n",
        "\n",
        "#append the accuracy to the object for furture visualization\n",
        "all_accuracies['Linear estimator']=linear_result['accuracy']\n",
        "all_accuracies['Boosted tree estimator']=boosted_tree_result['accuracy']"
      ],
      "execution_count": 24,
      "outputs": [
        {
          "output_type": "stream",
          "text": [
            "Linear estimator results\n",
            "accuracy                 0.691099\n",
            "accuracy_baseline        0.607330\n",
            "auc                      0.720977\n",
            "auc_precision_recall     0.640048\n",
            "average_loss             0.692175\n",
            "label/mean               0.392670\n",
            "loss                     0.692175\n",
            "precision                0.785714\n",
            "prediction/mean          0.229055\n",
            "recall                   0.293333\n",
            "global_step             10.000000\n",
            "dtype: float64\n",
            "---------------------------------------\n",
            "Boosted Tree estimator results\n",
            "accuracy                  0.748691\n",
            "accuracy_baseline         0.607330\n",
            "auc                       0.813333\n",
            "auc_precision_recall      0.798630\n",
            "average_loss              0.495477\n",
            "label/mean                0.392670\n",
            "loss                      0.495477\n",
            "precision                 0.714286\n",
            "prediction/mean           0.394679\n",
            "recall                    0.600000\n",
            "global_step             100.000000\n",
            "dtype: float64\n"
          ],
          "name": "stdout"
        }
      ]
    },
    {
      "cell_type": "code",
      "metadata": {
        "id": "JqkeodS5SvvT",
        "colab_type": "code",
        "outputId": "a4b8eace-22e6-47f3-9701-a2e233264b84",
        "colab": {
          "base_uri": "https://localhost:8080/",
          "height": 363
        }
      },
      "source": [
        "#Plotting linear regression estimator vs Boosted Tree estimator for the result metrics\n",
        "fig, matplotlib_Axes = plt.subplots(1, 2, figsize = (15, 4))\n",
        "\n",
        "linear_result = pd.Series(linear_result)\n",
        "linear_result=linear_result.drop(['global_step','auc_precision_recall','label/mean','prediction/mean'])\n",
        "linear_result.plot.bar(color = \"#FF0000\", ax = matplotlib_Axes[0])\n",
        "matplotlib_Axes[0].set_title(\"Linear Estimator\")\n",
        "matplotlib_Axes[0].set_ylabel(\"Percentages\")\n",
        "\n",
        "boosted_tree_result = pd.Series(boosted_tree_result)\n",
        "boosted_tree_result = boosted_tree_result.drop(['global_step','auc_precision_recall','label/mean','prediction/mean'])\n",
        "boosted_tree_result.plot.bar(color = \"#00FFFF\", ax = matplotlib_Axes[1])\n",
        "matplotlib_Axes[1].set_title(\"Boosted Tree estimator\")\n",
        "matplotlib_Axes[1].set_ylabel(\"Percentages\")\n",
        "plt.show()"
      ],
      "execution_count": 25,
      "outputs": [
        {
          "output_type": "display_data",
          "data": {
            "image/png": "[encoded data removed]",
            "text/plain": [
              "<Figure size 1080x288 with 2 Axes>"
            ]
          },
          "metadata": {
            "tags": [],
            "needs_background": "light"
          }
        }
      ]
    },
    {
      "cell_type": "code",
      "metadata": {
        "id": "WZQHWfpa9ali",
        "colab_type": "code",
        "outputId": "8652b10f-2694-47ae-dc3d-5f2e81a38b9f",
        "colab": {
          "base_uri": "https://localhost:8080/",
          "height": 441
        }
      },
      "source": [
        "#Feature importances of Boosted Trees Classifier\n",
        "feature_importances = boosted_trees_estimator.experimental_feature_importances(normalize=True)\n",
        "feature_importances = pd.Series(feature_importances)\n",
        "feature_importances.plot.bar()\n",
        "feature_importances\n"
      ],
      "execution_count": 26,
      "outputs": [
        {
          "output_type": "execute_result",
          "data": {
            "text/plain": [
              "sex         0.394744\n",
              "pclass      0.238496\n",
              "age         0.169247\n",
              "fare        0.118588\n",
              "sibsp       0.046204\n",
              "embarked    0.019582\n",
              "parch       0.013138\n",
              "dtype: float64"
            ]
          },
          "metadata": {
            "tags": []
          },
          "execution_count": 26
        },
        {
          "output_type": "display_data",
          "data": {
            "image/png": "[encoded data removed]",
            "text/plain": [
              "<Figure size 432x288 with 1 Axes>"
            ]
          },
          "metadata": {
            "tags": [],
            "needs_background": "light"
          }
        }
      ]
    },
    {
      "cell_type": "code",
      "metadata": {
        "id": "I5ph4RazpK9P",
        "colab_type": "code",
        "outputId": "545e757d-064a-4ca5-f427-f67f75532f3c",
        "colab": {
          "base_uri": "https://localhost:8080/",
          "height": 383
        }
      },
      "source": [
        "#Prediction based on testing dataset and plotting the predicted probabilities\n",
        "predictions = list(boosted_trees_estimator.predict(testing))\n",
        "probabilities = pd.Series([pred['probabilities'][1] for pred in predictions])\n",
        "probabilities.plot(kind='hist', bins=20, title='predicted probabilities',color='#C9F371')\n",
        "plt.show()"
      ],
      "execution_count": 27,
      "outputs": [
        {
          "output_type": "stream",
          "text": [
            "INFO:tensorflow:Calling model_fn.\n",
            "INFO:tensorflow:Done calling model_fn.\n",
            "INFO:tensorflow:Graph was finalized.\n",
            "INFO:tensorflow:Restoring parameters from /tmp/tmpszwzph2z/model.ckpt-100\n",
            "INFO:tensorflow:Running local_init_op.\n",
            "INFO:tensorflow:Done running local_init_op.\n"
          ],
          "name": "stdout"
        },
        {
          "output_type": "display_data",
          "data": {
            "image/png": "[encoded data removed]",
            "text/plain": [
              "<Figure size 432x288 with 1 Axes>"
            ]
          },
          "metadata": {
            "tags": [],
            "needs_background": "light"
          }
        }
      ]
    },
    {
      "cell_type": "code",
      "metadata": {
        "id": "rsYZFQ5NpXL3",
        "colab_type": "code",
        "outputId": "8575c0de-8a91-4916-cb93-04a484c29425",
        "colab": {
          "base_uri": "https://localhost:8080/",
          "height": 295
        }
      },
      "source": [
        "#ROC curve for Boosted Tree Classifier to evaluate performance\n",
        "from sklearn.metrics import roc_curve\n",
        "fpr, tpr, _ = roc_curve(test_Yvars, probabilities)\n",
        "plt.plot(fpr, tpr)\n",
        "plt.title('ROC curve')\n",
        "plt.xlabel('false positive rate')\n",
        "plt.ylabel('true positive rate')\n",
        "plt.xlim(0,)\n",
        "plt.ylim(0,)\n",
        "plt.show()"
      ],
      "execution_count": 28,
      "outputs": [
        {
          "output_type": "display_data",
          "data": {
            "image/png": "[encoded data removed]",
            "text/plain": [
              "<Figure size 432x288 with 1 Axes>"
            ]
          },
          "metadata": {
            "tags": [],
            "needs_background": "light"
          }
        }
      ]
    },
    {
      "cell_type": "code",
      "metadata": {
        "id": "lIgfGe5lw_v1",
        "colab_type": "code",
        "outputId": "0f12c635-72de-4677-8ca3-e4ca9e594c76",
        "colab": {
          "base_uri": "https://localhost:8080/",
          "height": 406
        }
      },
      "source": [
        "#summarizing all the accuracies obtained from the models above for better comparisons\n",
        "fig, matplotlib_Axes = plt.subplots(1, figsize = (15, 4))\n",
        "all_accuracies = pd.Series(all_accuracies)\n",
        "all_accuracies.plot.bar(color = \"#f199B3\")\n",
        "matplotlib_Axes.set_title('Accuracy for all classifier models for training dataset')\n",
        "matplotlib_Axes.set_ylabel('Accuracy in terms of Percentage')\n",
        "plt.show()"
      ],
      "execution_count": 29,
      "outputs": [
        {
          "output_type": "display_data",
          "data": {
            "image/png": "[encoded data removed]",
            "text/plain": [
              "<Figure size 1080x288 with 1 Axes>"
            ]
          },
          "metadata": {
            "tags": [],
            "needs_background": "light"
          }
        }
      ]
    }
  ]
}